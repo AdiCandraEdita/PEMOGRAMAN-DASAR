{
  "nbformat": 4,
  "nbformat_minor": 0,
  "metadata": {
    "colab": {
      "provenance": [],
      "authorship_tag": "ABX9TyMIkMuf4rYpLwwh8f3FTWgT",
      "include_colab_link": true
    },
    "kernelspec": {
      "name": "python3",
      "display_name": "Python 3"
    },
    "language_info": {
      "name": "python"
    }
  },
  "cells": [
    {
      "cell_type": "markdown",
      "metadata": {
        "id": "view-in-github",
        "colab_type": "text"
      },
      "source": [
        "<a href=\"https://colab.research.google.com/github/AdiCandraEdita/PEMOGRAMAN-DASAR/blob/main/PRATIKUM_6_.ipynb\" target=\"_parent\"><img src=\"https://colab.research.google.com/assets/colab-badge.svg\" alt=\"Open In Colab\"/></a>"
      ]
    },
    {
      "cell_type": "code",
      "execution_count": 4,
      "metadata": {
        "id": "EtIO_odpOyea",
        "colab": {
          "base_uri": "https://localhost:8080/"
        },
        "outputId": "492032ce-b72b-4f13-a64b-8dfb88b06b74"
      },
      "outputs": [
        {
          "output_type": "stream",
          "name": "stdout",
          "text": [
            "=== BIODATA PRAKTIKAN ===\n",
            "Nama       : Adi Candra\n",
            "NIM        : 4232411022\n",
            "Kelas      : RPE A Malam\n",
            "Prodi      : Teknik Elektro\n",
            "Kampus     : Politeknik Negeri Batam\n"
          ]
        }
      ],
      "source": [
        "def Biodata():\n",
        "    \"\"\"Menampilkan biodata lengkap praktikan.\"\"\"\n",
        "    print(\"=== BIODATA PRAKTIKAN ===\")\n",
        "    print(\"Nama       : Adi Candra\")\n",
        "    print(\"NIM        : 4232411022\")\n",
        "    print(\"Kelas      : RPE A Malam\")\n",
        "    print(\"Prodi      : Teknik Elektro\")\n",
        "    print(\"Kampus     : Politeknik Negeri Batam\")\n",
        "\n",
        "# Pemanggilan fungsi\n",
        "Biodata()"
      ]
    },
    {
      "cell_type": "code",
      "source": [
        "def hitung_volume_balok(panjang, lebar, tinggi):\n",
        "    \"\"\"Menghitung volume balok dari panjang, lebar, dan tinggi.\"\"\"\n",
        "    return panjang * lebar * tinggi\n",
        "\n",
        "# Pemanggilan fungsi:\n",
        "p = 10\n",
        "l = 5\n",
        "t = 4\n",
        "print(f\"Volume balok dengan ukuran {p}x{l}x{t} adalah: {hitung_volume_balok(p, l, t)}\")"
      ],
      "metadata": {
        "colab": {
          "base_uri": "https://localhost:8080/"
        },
        "id": "dESY-8WPKWDu",
        "outputId": "0da995bd-215d-4834-8294-dea6b81e983f"
      },
      "execution_count": 6,
      "outputs": [
        {
          "output_type": "stream",
          "name": "stdout",
          "text": [
            "Volume balok dengan ukuran 10x5x4 adalah: 200\n"
          ]
        }
      ]
    },
    {
      "cell_type": "code",
      "source": [
        "def hitung_rata_rata(data_nilai):\n",
        "    \"\"\"Menghitung rata-rata dari list angka menggunakan perulangan for dengan validasi nilai.\"\"\"\n",
        "    total = 0\n",
        "    jumlah_valid = 0\n",
        "\n",
        "    for nilai in data_nilai:\n",
        "        # Pengecekan nilai valid (antara 0 dan 100)\n",
        "        if 0 <= nilai <= 100:\n",
        "            total += nilai\n",
        "            jumlah_valid += 1\n",
        "        else:\n",
        "            print(f\"Nilai {nilai} tidak valid dan diabaikan.\")\n",
        "\n",
        "    # Menghindari pembagian dengan nol\n",
        "    if jumlah_valid > 0:\n",
        "        return total / jumlah_valid\n",
        "    return 0\n",
        "\n",
        "# Pemanggilan:\n",
        "nilai_praktikan = [85, 120, 92, -5, 70]\n",
        "print(f\"Nilai rata-rata kelas adalah: {hitung_rata_rata(nilai_praktikan)}\")"
      ],
      "metadata": {
        "colab": {
          "base_uri": "https://localhost:8080/"
        },
        "id": "HT-00WibM-LP",
        "outputId": "d3dd1d33-0cbf-43f8-8f83-547dc99e2884"
      },
      "execution_count": 9,
      "outputs": [
        {
          "output_type": "stream",
          "name": "stdout",
          "text": [
            "Nilai 120 tidak valid dan diabaikan.\n",
            "Nilai -5 tidak valid dan diabaikan.\n",
            "Nilai rata-rata kelas adalah: 82.33333333333333\n"
          ]
        }
      ]
    },
    {
      "cell_type": "code",
      "source": [
        "# SOAL 4: Sistem Penentuan Predikat Nilai\n",
        "def tentukan_predikat(skor):\n",
        "    \"\"\"Menentukan predikat (A, B, C, D, E) berdasarkan skor numerik.\"\"\"\n",
        "\n",
        "    # Pengecekan tipe data agar hanya menerima angka\n",
        "    if not isinstance(skor, (int, float)):\n",
        "        return \"Input tidak valid! Skor harus berupa angka.\"\n",
        "\n",
        "    # Percabangan untuk menentukan predikat\n",
        "    if skor >= 85:\n",
        "        return \"A\"\n",
        "    elif skor >= 70:\n",
        "        return \"B\"\n",
        "    elif skor >= 60:\n",
        "        return \"C\"\n",
        "    elif skor >= 50:\n",
        "        return \"D\"\n",
        "    else:\n",
        "        return \"E\"\n",
        "\n",
        "\n",
        "# Pemanggilan fungsi\n",
        "print(f\"Skor 90 mendapat predikat: {tentukan_predikat(90)}\")\n",
        "print(f\"Skor 75 mendapat predikat: {tentukan_predikat(75)}\")\n",
        "print(f\"Skor 63 mendapat predikat: {tentukan_predikat(63)}\")\n",
        "print(f\"Skor 52 mendapat predikat: {tentukan_predikat(52)}\")\n",
        "print(f\"Skor 45 mendapat predikat: {tentukan_predikat(45)}\")\n",
        "print(f\"Skor 'A+' mendapat predikat: {tentukan_predikat('A+')}\")"
      ],
      "metadata": {
        "colab": {
          "base_uri": "https://localhost:8080/"
        },
        "id": "4X8xR9ShOUXI",
        "outputId": "27e141c8-1be9-4830-e28b-a8090be15de0"
      },
      "execution_count": 11,
      "outputs": [
        {
          "output_type": "stream",
          "name": "stdout",
          "text": [
            "Skor 90 mendapat predikat: A\n",
            "Skor 75 mendapat predikat: B\n",
            "Skor 63 mendapat predikat: C\n",
            "Skor 52 mendapat predikat: D\n",
            "Skor 45 mendapat predikat: E\n",
            "Skor 'A+' mendapat predikat: Input tidak valid! Skor harus berupa angka.\n"
          ]
        }
      ]
    },
    {
      "cell_type": "code",
      "source": [
        "# SOAL 5: Menghitung Faktorial dengan Loop While + Modifikasi\n",
        "def hitung_faktorial(n):\n",
        "    \"\"\"Menghitung faktorial dari bilangan positif n dengan menampilkan prosesnya.\"\"\"\n",
        "\n",
        "    # Penanganan kasus khusus\n",
        "    if n < 0:\n",
        "        return \"Tidak bisa menghitung faktorial dari bilangan negatif!\"\n",
        "    elif n == 0:\n",
        "        return 1  # Secara definisi, 0! = 1\n",
        "\n",
        "    hasil = 1\n",
        "\n",
        "    # Perulangan berjalan selama n lebih besar dari 1\n",
        "    while n > 1:\n",
        "        hasil *= n           # Kalikan hasil dengan n\n",
        "        print(f\"Langkah: hasil = {hasil}, n = {n}\")  # Tampilkan proses\n",
        "        n -= 1               # Kurangi nilai n\n",
        "\n",
        "    return hasil\n",
        "\n",
        "\n",
        "# Pemanggilan fungsi\n",
        "bilangan_n = 4\n",
        "print(f\"Faktorial dari {bilangan_n} adalah: {hitung_faktorial(bilangan_n)}\")"
      ],
      "metadata": {
        "colab": {
          "base_uri": "https://localhost:8080/"
        },
        "id": "O4cIxy3iT329",
        "outputId": "dd4d6421-9bb4-4b8b-d0d2-726b09b8c8f2"
      },
      "execution_count": 14,
      "outputs": [
        {
          "output_type": "stream",
          "name": "stdout",
          "text": [
            "Langkah: hasil = 4, n = 4\n",
            "Langkah: hasil = 12, n = 3\n",
            "Langkah: hasil = 24, n = 2\n",
            "Faktorial dari 4 adalah: 24\n"
          ]
        }
      ]
    },
    {
      "cell_type": "code",
      "source": [
        "# SOAL 6: Analisis Data Suhu Ekstrem (for, if/elif)\n",
        "def analisis_suhu(data_suhu, batas_panas=35, batas_dingin=15):\n",
        "    \"\"\"\n",
        "    Menghitung jumlah hari Panas dan Dingin dari data_suhu.\n",
        "    Hari dianggap Panas jika suhu >= batas_panas,\n",
        "    dan Dingin jika suhu <= batas_dingin.\n",
        "    \"\"\"\n",
        "    panas_count = 0\n",
        "    dingin_count = 0\n",
        "\n",
        "    # Perulangan untuk menghitung jumlah hari panas dan dingin\n",
        "    for suhu in data_suhu:\n",
        "        if suhu >= batas_panas:\n",
        "            panas_count += 1\n",
        "        elif suhu <= batas_dingin:\n",
        "            dingin_count += 1\n",
        "\n",
        "    return panas_count, dingin_count\n",
        "\n",
        "\n",
        "# Pemanggilan\n",
        "suhu_mingguan = [36, 30, 14, 25, 38, 16, 28]\n",
        "jumlah_panas, jumlah_dingin = analisis_suhu(suhu_mingguan)\n",
        "\n",
        "print(f\"Jumlah hari Panas (≥{35}°C): {jumlah_panas}\")\n",
        "print(f\"Jumlah hari Dingin (≤{15}°C): {jumlah_dingin}\")\n",
        "\n",
        "# Contoh penggunaan parameter opsional (ubah batas)\n",
        "print(\"\\nUji batas berbeda (Panas ≥ 33°C, Dingin ≤ 18°C):\")\n",
        "jumlah_panas2, jumlah_dingin2 = analisis_suhu(suhu_mingguan, batas_panas=33, batas_dingin=18)\n",
        "print(f\"Jumlah hari Panas (≥33°C): {jumlah_panas2}\")\n",
        "print(f\"Jumlah hari Dingin (≤18°C): {jumlah_dingin2}\")"
      ],
      "metadata": {
        "colab": {
          "base_uri": "https://localhost:8080/"
        },
        "id": "_vgUyhaxU1aS",
        "outputId": "73025d91-a892-4952-ef3a-5283514d3010"
      },
      "execution_count": 16,
      "outputs": [
        {
          "output_type": "stream",
          "name": "stdout",
          "text": [
            "Jumlah hari Panas (≥35°C): 2\n",
            "Jumlah hari Dingin (≤15°C): 1\n",
            "\n",
            "Uji batas berbeda (Panas ≥ 33°C, Dingin ≤ 18°C):\n",
            "Jumlah hari Panas (≥33°C): 2\n",
            "Jumlah hari Dingin (≤18°C): 2\n"
          ]
        }
      ]
    }
  ]
}