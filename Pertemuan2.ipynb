{
  "nbformat": 4,
  "nbformat_minor": 0,
  "metadata": {
    "colab": {
      "provenance": [],
      "authorship_tag": "ABX9TyPnnff37JBPdWG4aC2AleI9",
      "include_colab_link": true
    },
    "kernelspec": {
      "name": "python3",
      "display_name": "Python 3"
    },
    "language_info": {
      "name": "python"
    }
  },
  "cells": [
    {
      "cell_type": "markdown",
      "metadata": {
        "id": "view-in-github",
        "colab_type": "text"
      },
      "source": [
        "<a href=\"https://colab.research.google.com/github/AdiCandraEdita/PEMOGRAMAN-DASAR/blob/main/Pertemuan2.ipynb\" target=\"_parent\"><img src=\"https://colab.research.google.com/assets/colab-badge.svg\" alt=\"Open In Colab\"/></a>"
      ]
    },
    {
      "cell_type": "code",
      "execution_count": null,
      "metadata": {
        "colab": {
          "base_uri": "https://localhost:8080/"
        },
        "id": "5nmAU4NVA658",
        "outputId": "41ffc0e9-d781-4a4b-9940-0c89484887ff"
      },
      "outputs": [
        {
          "output_type": "stream",
          "name": "stdout",
          "text": [
            "43\n"
          ]
        }
      ],
      "source": [
        "# deklarasi variabel list\n",
        "numbers = [23, 43, 15, 34]\n",
        "# cara mengakses elemen dalam variabel list\n",
        "numbers[0]  #23\n",
        "numbers[1]  #43\n",
        "numbers[2]  #15\n",
        "numbers[3]  #34\n",
        "# cara mengubah nilai elemen dalam variabel list\n",
        "numbers[2] # 51\n",
        "numbers[2] # 51\n",
        "\n",
        "print (numbers[1]) #lakukan untuk setiap indexnya dan lihat hasilnya"
      ]
    },
    {
      "cell_type": "code",
      "source": [
        "#deklarasi variabel list numbers\n",
        "numbers = [1, 2, 3]\n",
        "\n",
        "#menambahkan elemen di indeks ke-4\n",
        "numbers.insert(4, 5)    #[1, 2, 3, 5]\n",
        "\n",
        "#mengubah elemen di indeks ke-4\n",
        "numbers[3] = 4    #[1, 2, 3, 4]\n",
        "\n",
        "#menghapus elemen di indeks ke-2\n",
        "numbers.pop(2)   #[1, 2, 4]\n",
        "\n",
        "#print lalu lihat hasilnya"
      ],
      "metadata": {
        "colab": {
          "base_uri": "https://localhost:8080/"
        },
        "id": "wt4KLGO_HsZL",
        "outputId": "b806a1b2-9586-4e25-a156-cd14cd32d11e"
      },
      "execution_count": 9,
      "outputs": [
        {
          "output_type": "execute_result",
          "data": {
            "text/plain": [
              "3"
            ]
          },
          "metadata": {},
          "execution_count": 9
        }
      ]
    },
    {
      "cell_type": "code",
      "source": [
        "# deklarasi variabel list numbers\n",
        "numbers = [1, 2, 3]\n",
        "\n",
        "#menambahkan elemen di indeks ke-4\n",
        "numbers.insert(4, 5) #[1, 2, 3, 5]\n",
        "\n",
        "# mengubah elemen di indeks ke-4\n",
        "numbers[3] = 4 # [1, 2, 3, 4]\n",
        "\n",
        "#menghapus elemen di indeks ke-2\n",
        "numbers.pop(2) # [1, 2, 4]\n",
        "\n",
        "#print setiap hasil perubahan dan amati hasilnya\n"
      ],
      "metadata": {
        "colab": {
          "base_uri": "https://localhost:8080/"
        },
        "id": "ye2qN_S2FzZg",
        "outputId": "e7728b77-154f-4fd0-ee64-086ca3095869"
      },
      "execution_count": 1,
      "outputs": [
        {
          "output_type": "execute_result",
          "data": {
            "text/plain": [
              "3"
            ]
          },
          "metadata": {},
          "execution_count": 1
        }
      ]
    },
    {
      "cell_type": "code",
      "source": [
        "# deklarasi variabel list\n",
        "myList = [1, \"Rumah\", 4.5, True, [\"Kamar mandi\", \"Kamar tidur\"]]\n",
        "\n",
        "# cara mengakses elemen dalam variabel list\n",
        "(myList[0])   # 1\n",
        "(myList[1])   # \"Rumah\"\n",
        "(myList[3])   # True\n",
        "(myList[4])   # [\"Kamar mandi\", \"Kamar tidur\"]\n",
        "\n",
        "# cara mengakses elemen dalam sublist\n",
        "(myList[4][0])   # \"Kamar mandi\"\n",
        "(myList[4][1])   # \"Kamar tidur\"\n",
        "\n",
        "#lakukan print lalu amati hasil"
      ],
      "metadata": {
        "colab": {
          "base_uri": "https://localhost:8080/",
          "height": 36
        },
        "id": "lb0qAQs1q53c",
        "outputId": "cad48bdd-2188-499f-def9-cd0adccb298a"
      },
      "execution_count": 10,
      "outputs": [
        {
          "output_type": "execute_result",
          "data": {
            "text/plain": [
              "'Kamar tidur'"
            ],
            "application/vnd.google.colaboratory.intrinsic+json": {
              "type": "string"
            }
          },
          "metadata": {},
          "execution_count": 10
        }
      ]
    },
    {
      "cell_type": "code",
      "source": [
        "# deklarasi variabel tuple\n",
        "numbers = (23, 43, 15, 34)\n",
        "\n",
        "# cara mengakses elemen dalam variabel tuple\n",
        "(numbers[0])   # 23\n",
        "(numbers[1])   # 43\n",
        "(numbers[2])   # 15\n",
        "\n",
        "#lakukan print lalu amati hasilnya\n"
      ],
      "metadata": {
        "colab": {
          "base_uri": "https://localhost:8080/"
        },
        "id": "rl_HVdZftCLX",
        "outputId": "87d2e842-2ab8-4d75-ddd6-a50ffd1ae730"
      },
      "execution_count": 17,
      "outputs": [
        {
          "output_type": "execute_result",
          "data": {
            "text/plain": [
              "15"
            ]
          },
          "metadata": {},
          "execution_count": 17
        }
      ]
    },
    {
      "cell_type": "code",
      "source": [
        "# deklarasi variabel set a dan b\n",
        "a = {1, 2, 3}\n",
        "b = {2, 3, 4}\n",
        "\n",
        "# operasi gabungan\n",
        "(a.union(b))              # {1, 2, 3, 4}\n",
        "\n",
        "# operasi irisan\n",
        "(a.intersection(b))       # {2, 3}\n",
        "\n",
        "# operasi perbedaan simetris\n",
        "(a.symmetric_difference(b))   # {1, 4}\n",
        "\n",
        "# lakukan print dan lihat hasilnya\n"
      ],
      "metadata": {
        "colab": {
          "base_uri": "https://localhost:8080/"
        },
        "id": "I6BjHBOfter2",
        "outputId": "2b71665e-591c-4f06-80e7-59997ec713a0"
      },
      "execution_count": 22,
      "outputs": [
        {
          "output_type": "execute_result",
          "data": {
            "text/plain": [
              "{1, 4}"
            ]
          },
          "metadata": {},
          "execution_count": 22
        }
      ]
    },
    {
      "cell_type": "code",
      "source": [
        "# deklarasi variabel dictionary\n",
        "propertyDetail = {\n",
        "    \"numFloors\": 1,\n",
        "    \"propertyType\": \"Rumah\",\n",
        "    \"hasTerrace\": True,\n",
        "    \"hasGarage\": False\n",
        "}\n",
        "\n",
        "# cara mengakses elemen dalam variabel dictionary\n",
        "(propertyDetail[\"numFloors\"])     # 1\n",
        "(propertyDetail[\"propertyType\"])  # Rumah\n",
        "(propertyDetail[\"hasTerrace\"])    # True\n",
        "(propertyDetail[\"hasGarage\"])     # False\n",
        "\n",
        "# cara mengubah nilai elemen dalam variabel dictionary\n",
        "propertyDetail[\"hasTerrace\"] = False\n",
        "\n",
        "(propertyDetail[\"hasTerrace\"])    # False\n",
        "\n",
        "# contoh akses lain\n",
        "(propertyDetail[\"propertyType\"])  # Rumah\n",
        "\n",
        "# lakukan print lalu amati hasilnya"
      ],
      "metadata": {
        "colab": {
          "base_uri": "https://localhost:8080/",
          "height": 36
        },
        "id": "OPQ3c88Bu4eH",
        "outputId": "e72fbc54-5a6d-4d63-ace6-06f9ccbf2b2d"
      },
      "execution_count": 24,
      "outputs": [
        {
          "output_type": "execute_result",
          "data": {
            "text/plain": [
              "'Rumah'"
            ],
            "application/vnd.google.colaboratory.intrinsic+json": {
              "type": "string"
            }
          },
          "metadata": {},
          "execution_count": 24
        }
      ]
    }
  ]
}