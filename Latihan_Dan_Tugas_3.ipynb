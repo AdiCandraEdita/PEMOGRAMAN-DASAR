{
  "nbformat": 4,
  "nbformat_minor": 0,
  "metadata": {
    "colab": {
      "provenance": [],
      "authorship_tag": "ABX9TyPx1q8VE8foUhJik8eSd7LW",
      "include_colab_link": true
    },
    "kernelspec": {
      "name": "python3",
      "display_name": "Python 3"
    },
    "language_info": {
      "name": "python"
    }
  },
  "cells": [
    {
      "cell_type": "markdown",
      "metadata": {
        "id": "view-in-github",
        "colab_type": "text"
      },
      "source": [
        "<a href=\"https://colab.research.google.com/github/AdiCandraEdita/PEMOGRAMAN-DASAR/blob/main/Latihan_Dan_Tugas_3.ipynb\" target=\"_parent\"><img src=\"https://colab.research.google.com/assets/colab-badge.svg\" alt=\"Open In Colab\"/></a>"
      ]
    },
    {
      "cell_type": "code",
      "execution_count": 2,
      "metadata": {
        "colab": {
          "base_uri": "https://localhost:8080/"
        },
        "id": "2-KagsnUC0EA",
        "outputId": "60e62116-d14e-4f16-a225-fd2220bd7c50"
      },
      "outputs": [
        {
          "output_type": "stream",
          "name": "stdout",
          "text": [
            "Masukkan tahun: 2024\n",
            "2024 adalah tahun kabisat.\n"
          ]
        }
      ],
      "source": [
        "# Fungsi untuk mengecek apakah tahun kabisat\n",
        "def cek_kabisat(tahun):\n",
        "    # ekspresi logika kabisat\n",
        "    if (tahun % 4 == 0 and tahun % 100 != 0) or (tahun % 400 == 0):\n",
        "        return True\n",
        "    else:\n",
        "        return False\n",
        "\n",
        "# Input dari user\n",
        "tahun = int(input(\"Masukkan tahun: \"))\n",
        "\n",
        "# Output hasil\n",
        "if cek_kabisat(tahun):\n",
        "    print(f\"{tahun} adalah tahun kabisat.\")\n",
        "else:\n",
        "    print(f\"{tahun} bukan tahun kabisat.\")"
      ]
    },
    {
      "cell_type": "code",
      "source": [
        "# Contoh penggunaan berbagai format output\n",
        "angka_int = 25\n",
        "angka_float = 12.75\n",
        "teks = \"Python\"\n",
        "angka_hex = 255\n",
        "angka_oct = 64\n",
        "\n",
        "print(\"Contoh integer: %d\" % angka_int)\n",
        "print(\"Contoh float: %.2f\" % angka_float)\n",
        "print(\"Contoh string: %s\" % teks)\n",
        "print(\"Contoh heksadesimal: %x\" % angka_hex)\n",
        "print(\"Contoh octal: %o\" % angka_oct)\n"
      ],
      "metadata": {
        "colab": {
          "base_uri": "https://localhost:8080/"
        },
        "id": "kboCZ_qiDmse",
        "outputId": "0c6a3a1e-e092-4bda-9de1-cc31ac090926"
      },
      "execution_count": 18,
      "outputs": [
        {
          "output_type": "stream",
          "name": "stdout",
          "text": [
            "Contoh integer: 25\n",
            "Contoh float: 12.75\n",
            "Contoh string: Python\n",
            "Contoh heksadesimal: ff\n",
            "Contoh octal: 100\n"
          ]
        }
      ]
    },
    {
      "cell_type": "code",
      "source": [
        "# Program Kasir Sederhana\n",
        "\n",
        "# Input daftar harga item yang dibeli\n",
        "# Misalnya user memasukkan harga item dalam bentuk list\n",
        "items = [35000, 300000, 60000]  # contoh: kopi latte, cappuccino, pastry\n",
        "\n",
        "# Input status member\n",
        "is_member = True  # ubah ke False jika bukan member\n",
        "\n",
        "# 1. Hitung Subtotal\n",
        "subtotal = sum(items)\n",
        "print(\"Subtotal: Rp\", subtotal)\n",
        "\n",
        "# 2. Evaluasi Syarat Diskon\n",
        "if is_member and subtotal > 100000:\n",
        "    discount_rate = 0.15\n",
        "else:\n",
        "    discount_rate = 0\n",
        "\n",
        "# 3. Hitung Jumlah Diskon\n",
        "discount_amount = subtotal * discount_rate\n",
        "print(\"Diskon: Rp\", discount_amount)\n",
        "\n",
        "# 4. Hitung Harga Setelah Diskon\n",
        "price_after_discount = subtotal - discount_amount\n",
        "print(\"Harga setelah diskon: Rp\", price_after_discount)\n",
        "\n",
        "# 5. Hitung PPN (11%)\n",
        "ppn = price_after_discount * 0.11\n",
        "print(\"PPN (11%): Rp\", ppn)\n",
        "\n",
        "# 6. Hitung Total Akhir\n",
        "total = price_after_discount + ppn\n",
        "print(\"Total yang harus dibayar: Rp\", total)"
      ],
      "metadata": {
        "colab": {
          "base_uri": "https://localhost:8080/"
        },
        "id": "2CUypJeeKEeR",
        "outputId": "77abf62e-f13a-41d2-b56c-702dbee32928"
      },
      "execution_count": 20,
      "outputs": [
        {
          "output_type": "stream",
          "name": "stdout",
          "text": [
            "Subtotal: Rp 395000\n",
            "Diskon: Rp 59250.0\n",
            "Harga setelah diskon: Rp 335750.0\n",
            "PPN (11%): Rp 36932.5\n",
            "Total yang harus dibayar: Rp 372682.5\n"
          ]
        }
      ]
    }
  ]
}