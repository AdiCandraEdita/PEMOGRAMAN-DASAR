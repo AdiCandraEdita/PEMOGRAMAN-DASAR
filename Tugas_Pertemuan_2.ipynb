{
  "nbformat": 4,
  "nbformat_minor": 0,
  "metadata": {
    "colab": {
      "provenance": [],
      "authorship_tag": "ABX9TyPi+CWlxG7tKkbgX8zBDXXt",
      "include_colab_link": true
    },
    "kernelspec": {
      "name": "python3",
      "display_name": "Python 3"
    },
    "language_info": {
      "name": "python"
    }
  },
  "cells": [
    {
      "cell_type": "markdown",
      "metadata": {
        "id": "view-in-github",
        "colab_type": "text"
      },
      "source": [
        "<a href=\"https://colab.research.google.com/github/AdiCandraEdita/PEMOGRAMAN-DASAR/blob/main/Tugas_Pertemuan_2.ipynb\" target=\"_parent\"><img src=\"https://colab.research.google.com/assets/colab-badge.svg\" alt=\"Open In Colab\"/></a>"
      ]
    },
    {
      "cell_type": "code",
      "execution_count": 3,
      "metadata": {
        "id": "TRUDDQxmwAEi",
        "colab": {
          "base_uri": "https://localhost:8080/"
        },
        "outputId": "20ae2bce-c3d7-4494-9ac2-333f35d1c961"
      },
      "outputs": [
        {
          "output_type": "stream",
          "name": "stdout",
          "text": [
            "My first name is Adi\n",
            "My last name is Candra Edita\n",
            "My age is 22\n",
            "Am I married? False\n"
          ]
        }
      ],
      "source": [
        "firstName = \"Adi\"\n",
        "lastName = \"Candra Edita\"\n",
        "age = 22\n",
        "isMarried = False\n",
        "\n",
        "print(\"My first name is\", firstName)\n",
        "print(\"My last name is\", lastName)\n",
        "print(\"My age is\", age)\n",
        "print(\"Am I married?\", isMarried)\n",
        "\n"
      ]
    },
    {
      "cell_type": "code",
      "source": [
        "firstName = {\"Adi\"}\n",
        "lastName = {\"Candra Edita\"}\n",
        "age = {22}\n",
        "isMarried = {False}\n",
        "\n",
        "print(\"My first name is\", firstName)\n",
        "print(\"My last name is\", lastName)\n",
        "print(\"My age is\", age)\n",
        "print(\"Am I married?\", isMarried)\n"
      ],
      "metadata": {
        "colab": {
          "base_uri": "https://localhost:8080/"
        },
        "id": "V5KhUjPlxkvW",
        "outputId": "3f9dbeff-8150-4e5c-fe38-6b02c9d80e60"
      },
      "execution_count": 5,
      "outputs": [
        {
          "output_type": "stream",
          "name": "stdout",
          "text": [
            "My first name is {'Adi'}\n",
            "My last name is {'Candra Edita'}\n",
            "My age is {22}\n",
            "Am I married? {False}\n"
          ]
        }
      ]
    },
    {
      "cell_type": "code",
      "source": [
        "# Membuat variabel inspeksi berupa list\n",
        "inspeksi = [\n",
        "    \"pemahaman terhadap rencana dan desain\",\n",
        "    \"ketersediaan bahan dan peralatan\",\n",
        "    \"pengawasan pekerjaan\",\n",
        "    \"kualitas konstruksi\",\n",
        "    \"keselamatan kerja\",\n",
        "    \"koordinasi dengan pemilik proyek\"\n",
        "]\n",
        "\n",
        "# Menampilkan isi variabel inspeksi\n",
        "print(\"Daftar inspeksi proyek:\")\n",
        "for i, item in enumerate(inspeksi, start=1):\n",
        "    print(f\"{i}. {item}\")\n",
        ""
      ],
      "metadata": {
        "colab": {
          "base_uri": "https://localhost:8080/"
        },
        "id": "EbLURRXsyE5p",
        "outputId": "b0e8bf7f-e077-45ea-a3fa-659a93fd32bf"
      },
      "execution_count": 7,
      "outputs": [
        {
          "output_type": "stream",
          "name": "stdout",
          "text": [
            "Daftar inspeksi proyek:\n",
            "1. pemahaman terhadap rencana dan desain\n",
            "2. ketersediaan bahan dan peralatan\n",
            "3. pengawasan pekerjaan\n",
            "4. kualitas konstruksi\n",
            "5. keselamatan kerja\n",
            "6. koordinasi dengan pemilik proyek\n"
          ]
        }
      ]
    },
    {
      "cell_type": "code",
      "source": [
        "# Membuat dictionary untuk waktu datang (startTime)\n",
        "startTime = {\n",
        "    \"HH\": 9,\n",
        "    \"mm\": 23,\n",
        "    \"ss\": 57\n",
        "}\n",
        "\n",
        "# Membuat dictionary untuk waktu pulang (endTime)\n",
        "endTime = {\n",
        "    \"HH\": 15,\n",
        "    \"mm\": 25,\n",
        "    \"ss\": 43\n",
        "}\n",
        "\n",
        "# Menampilkan hasil\n",
        "print(\"Waktu Datang (startTime):\", startTime)\n",
        "print(\"Waktu Pulang (endTime):\", endTime)\n"
      ],
      "metadata": {
        "colab": {
          "base_uri": "https://localhost:8080/"
        },
        "id": "qp5fnbznyZF_",
        "outputId": "71a110de-b06f-48ae-ceff-97986cd05a9e"
      },
      "execution_count": 9,
      "outputs": [
        {
          "output_type": "stream",
          "name": "stdout",
          "text": [
            "Waktu Datang (startTime): {'HH': 9, 'mm': 23, 'ss': 57}\n",
            "Waktu Pulang (endTime): {'HH': 15, 'mm': 25, 'ss': 43}\n"
          ]
        }
      ]
    },
    {
      "cell_type": "code",
      "source": [
        "# Data contoh\n",
        "katalog_A = {\"Laptop\", \"Mouse\", \"Keyboard\", \"Monitor\"}\n",
        "katalog_B = {\"Printer\", \"Mouse\", \"Tablet\", \"Laptop\"}\n",
        "produk_diskon = (\"Mouse\", \"Tablet\", \"Smartphone\")\n",
        "\n",
        "# 1. Gabungkan katalog_A dan katalog_B ke dalam katalog_lengkap\n",
        "katalog_lengkap = katalog_A.union(katalog_B)\n",
        "\n",
        "# 2. Cari produk yang ada di katalog_lengkap dan juga ada di produk_diskon\n",
        "produk_promo_aktif = katalog_lengkap.intersection(produk_diskon)\n",
        "\n",
        "# Tampilkan hasil\n",
        "print(\"Katalog A:\", katalog_A)\n",
        "print(\"Katalog B:\", katalog_B)\n",
        "print(\"Produk Diskon:\", produk_diskon)\n",
        "print(\"\\nKatalog Lengkap:\", katalog_lengkap)\n",
        "print(\"Produk Promo Aktif:\", produk_promo_aktif)"
      ],
      "metadata": {
        "colab": {
          "base_uri": "https://localhost:8080/"
        },
        "id": "LPwCzWVjygdM",
        "outputId": "e7098123-ad6c-49ff-ce85-9e413a150e32"
      },
      "execution_count": 10,
      "outputs": [
        {
          "output_type": "stream",
          "name": "stdout",
          "text": [
            "Katalog A: {'Mouse', 'Keyboard', 'Laptop', 'Monitor'}\n",
            "Katalog B: {'Mouse', 'Tablet', 'Laptop', 'Printer'}\n",
            "Produk Diskon: ('Mouse', 'Tablet', 'Smartphone')\n",
            "\n",
            "Katalog Lengkap: {'Monitor', 'Laptop', 'Tablet', 'Keyboard', 'Mouse', 'Printer'}\n",
            "Produk Promo Aktif: {'Mouse', 'Tablet'}\n"
          ]
        }
      ]
    }
  ]
}