{
  "nbformat": 4,
  "nbformat_minor": 0,
  "metadata": {
    "colab": {
      "provenance": [],
      "authorship_tag": "ABX9TyPMSUnqmr9FjeNL0kC0C9GG",
      "include_colab_link": true
    },
    "kernelspec": {
      "name": "python3",
      "display_name": "Python 3"
    },
    "language_info": {
      "name": "python"
    }
  },
  "cells": [
    {
      "cell_type": "markdown",
      "metadata": {
        "id": "view-in-github",
        "colab_type": "text"
      },
      "source": [
        "<a href=\"https://colab.research.google.com/github/AdiCandraEdita/PEMOGRAMAN-DASAR/blob/main/Pratikum_3.ipynb\" target=\"_parent\"><img src=\"https://colab.research.google.com/assets/colab-badge.svg\" alt=\"Open In Colab\"/></a>"
      ]
    },
    {
      "cell_type": "code",
      "execution_count": 2,
      "metadata": {
        "colab": {
          "base_uri": "https://localhost:8080/"
        },
        "id": "wKpVIIcYv0mK",
        "outputId": "7846fcae-eac9-49a1-a9a1-4ae2c970bdfb"
      },
      "outputs": [
        {
          "name": "stdout",
          "output_type": "stream",
          "text": [
            "Berapa porsi makan yang Anda beli? : 3\n",
            "Siapa Nama pelanggan? : Adi\n"
          ]
        }
      ],
      "source": [
        "total = input(\"Berapa porsi makan yang Anda beli? : \")\n",
        "nama = input(\"Siapa Nama pelanggan? : \")"
      ]
    },
    {
      "cell_type": "code",
      "source": [
        "total = int(input(\"Berapa porsi makan yang Anda beli? : \"))\n",
        "nama = str(input(\"Siapa Nama pelanggan? : \"))"
      ],
      "metadata": {
        "colab": {
          "base_uri": "https://localhost:8080/"
        },
        "id": "vUMAZLgLzO-P",
        "outputId": "8f13079a-47ef-4c1c-cb8a-2b6f1417b103"
      },
      "execution_count": 5,
      "outputs": [
        {
          "name": "stdout",
          "output_type": "stream",
          "text": [
            "Berapa porsi makan yang Anda beli? : 3\n",
            "Siapa Nama pelanggan? : Adi\n"
          ]
        }
      ]
    },
    {
      "cell_type": "code",
      "source": [
        "food = \"Mi ayam bakso\"\n",
        "print(\"Bang Randi sedang memesan\", food)"
      ],
      "metadata": {
        "colab": {
          "base_uri": "https://localhost:8080/"
        },
        "id": "ty_PZQ1dziC1",
        "outputId": "e9b15a8a-085e-4bdb-d155-3635fdffcbde"
      },
      "execution_count": 7,
      "outputs": [
        {
          "output_type": "stream",
          "name": "stdout",
          "text": [
            "Bang Randi sedang memesan Mi ayam bakso\n"
          ]
        }
      ]
    },
    {
      "cell_type": "code",
      "source": [
        "food = \"Mi ayam bakso\"\n",
        "print(\"Bang Randi sedang memesan\", food)\n",
        "print(\"Bang Randi sedang memesan \" + food)\n",
        "print(\"Bang Randi sedang memesan %s\" % (food))"
      ],
      "metadata": {
        "colab": {
          "base_uri": "https://localhost:8080/"
        },
        "id": "sILOhiNvzy2y",
        "outputId": "b2ecb013-702c-45c1-9883-747cd8a12168"
      },
      "execution_count": 9,
      "outputs": [
        {
          "output_type": "stream",
          "name": "stdout",
          "text": [
            "Bang Randi sedang memesan Mi ayam bakso\n",
            "Bang Randi sedang memesan Mi ayam bakso\n",
            "Bang Randi sedang memesan Mi ayam bakso\n"
          ]
        }
      ]
    },
    {
      "cell_type": "code",
      "source": [
        "# Input jumlah porsi makan (float) dan nama pelanggan (string)\n",
        "total = float(input(\"Berapa porsi makan yang Anda beli? : \"))\n",
        "nama = str(input(\"Siapa Nama Pelanggan? : \"))\n",
        "\n",
        "print(f\"Pelanggan {nama} membeli {total} porsi makan.\")"
      ],
      "metadata": {
        "colab": {
          "base_uri": "https://localhost:8080/"
        },
        "id": "-lWfQw0N0IC4",
        "outputId": "f868d408-f656-4834-add2-2203ef228a91"
      },
      "execution_count": 11,
      "outputs": [
        {
          "output_type": "stream",
          "name": "stdout",
          "text": [
            "Berapa porsi makan yang Anda beli? : 3\n",
            "Siapa Nama Pelanggan? : Adi\n",
            "Pelanggan Adi membeli 3.0 porsi makan.\n"
          ]
        }
      ]
    },
    {
      "cell_type": "code",
      "source": [
        "a = 20\n",
        "b = 5\n",
        "\n",
        "print(\"Penjumlahan:\", a + b)\n",
        "print(\"Pengurangan:\", a - b)\n",
        "print(\"Perkalian:\", a * b)\n",
        "print(\"Pembagian:\", a / b)"
      ],
      "metadata": {
        "colab": {
          "base_uri": "https://localhost:8080/"
        },
        "id": "Ges-HddH2Cbw",
        "outputId": "6451f1bc-1d6a-4b58-bbe9-a04c59dc8edd"
      },
      "execution_count": 13,
      "outputs": [
        {
          "output_type": "stream",
          "name": "stdout",
          "text": [
            "Penjumlahan: 25\n",
            "Pengurangan: 15\n",
            "Perkalian: 100\n",
            "Pembagian: 4.0\n"
          ]
        }
      ]
    },
    {
      "cell_type": "code",
      "source": [
        "bilangan = 8\n",
        "hasil = (bilangan > 0) and (bilangan % 2 == 0)\n",
        "print(\"Genap dan positif?\", hasil)"
      ],
      "metadata": {
        "colab": {
          "base_uri": "https://localhost:8080/"
        },
        "id": "lQIU35np75pB",
        "outputId": "e38bbf6e-397b-4075-b7f5-a4e0ccdf8222"
      },
      "execution_count": 15,
      "outputs": [
        {
          "output_type": "stream",
          "name": "stdout",
          "text": [
            "Genap dan positif? True\n"
          ]
        }
      ]
    },
    {
      "cell_type": "code",
      "source": [
        "harga_makan = int(input(\"Berapa harga mi ayam per porsi? \"))\n",
        "jumlah_makan = int(input(\"Berapa porsi yang Anda beli? \"))\n",
        "\n",
        "total_makan = harga_makan * jumlah_makan\n",
        "\n",
        "print(f\"Harga makan per porsi = {harga_makan}, totalnya adalah {total_makan}\")"
      ],
      "metadata": {
        "colab": {
          "base_uri": "https://localhost:8080/"
        },
        "id": "8VUX7GTE8ss2",
        "outputId": "2b457722-25b3-4496-e387-be626ab609ab"
      },
      "execution_count": 19,
      "outputs": [
        {
          "output_type": "stream",
          "name": "stdout",
          "text": [
            "Berapa harga mi ayam per porsi? 15000\n",
            "Berapa porsi yang Anda beli? 3\n",
            "Harga makan per porsi = 15000, totalnya adalah 45000\n"
          ]
        }
      ]
    },
    {
      "cell_type": "code",
      "source": [
        "total_detik = int(input(\"\\nMasukkan total detik: \"))\n",
        "\n",
        "jam = total_detik // 3600\n",
        "sisa_detik = total_detik % 3600\n",
        "menit = sisa_detik // 60\n",
        "detik = sisa_detik % 60\n",
        "\n",
        "print(f\"Hasil Konversi: {jam} Jam, {menit} Menit, {detik} Detik\")"
      ],
      "metadata": {
        "colab": {
          "base_uri": "https://localhost:8080/"
        },
        "id": "L4LTxs7s9PIV",
        "outputId": "35dec5d7-6629-4da2-b8e9-8a82238925b4"
      },
      "execution_count": 26,
      "outputs": [
        {
          "output_type": "stream",
          "name": "stdout",
          "text": [
            "\n",
            "Masukkan total detik: 358200\n",
            "Hasil Konversi: 99 Jam, 30 Menit, 0 Detik\n"
          ]
        }
      ]
    },
    {
      "cell_type": "code",
      "source": [
        "# Input nilai mahasiswa\n",
        "tugas = float(input(\"Masukkan nilai Tugas: \"))\n",
        "uts = float(input(\"Masukkan nilai UTS: \"))\n",
        "uas = float(input(\"Masukkan nilai UAS: \"))\n",
        "\n",
        "# Hitung nilai akhir dengan bobot\n",
        "nilai_akhir = (0.3 * tugas) + (0.3 * uts) + (0.4 * uas)\n",
        "\n",
        "# Output\n",
        "print(\"Nilai akhir =\", nilai_akhir)84,5\n"
      ],
      "metadata": {
        "colab": {
          "base_uri": "https://localhost:8080/"
        },
        "id": "Gs3Serw0AMaU",
        "outputId": "2aec9ec9-1223-4428-a71d-5531b13be014"
      },
      "execution_count": 28,
      "outputs": [
        {
          "output_type": "stream",
          "name": "stdout",
          "text": [
            "Masukkan nilai Tugas: 75\n",
            "Masukkan nilai UTS: 80\n",
            "Masukkan nilai UAS: 95\n",
            "Nilai akhir = 84.5\n"
          ]
        }
      ]
    },
    {
      "cell_type": "code",
      "source": [
        "# Input nilai dari 5 mata kuliah\n",
        "nilai_mahasiswa = []\n",
        "for i in range(5):\n",
        "    nilai = float(input(f\"Masukkan nilai mata kuliah ke-{i+1}: \"))\n",
        "    nilai_mahasiswa.append(nilai)\n",
        "\n",
        "# Input standar kelulusan\n",
        "standar_kelulusan = float(input(\"Masukkan standar kelulusan: \"))\n",
        "\n",
        "# Hitung rata-rata\n",
        "rata2 = sum(nilai_mahasiswa) / len(nilai_mahasiswa)\n",
        "lulus = rata2 >= standar_kelulusan\n",
        "\n",
        "# Output\n",
        "print(f\"Nilai mahasiswa: {nilai_mahasiswa}\")\n",
        "print(f\"Rata-rata: {rata2}\")\n",
        "print(f\"Standar Kelulusan: {standar_kelulusan}\")\n",
        "print(f\"Apakah mahasiswa lulus? {lulus}\")"
      ],
      "metadata": {
        "colab": {
          "base_uri": "https://localhost:8080/"
        },
        "id": "pW_HZ69IARNG",
        "outputId": "a5f90cb9-bd7e-4815-c5fe-df7d8a359453"
      },
      "execution_count": 30,
      "outputs": [
        {
          "output_type": "stream",
          "name": "stdout",
          "text": [
            "Masukkan nilai mata kuliah ke-1: 80\n",
            "Masukkan nilai mata kuliah ke-2: 85\n",
            "Masukkan nilai mata kuliah ke-3: 90\n",
            "Masukkan nilai mata kuliah ke-4: 76\n",
            "Masukkan nilai mata kuliah ke-5: 60\n",
            "Masukkan standar kelulusan: 85\n",
            "Nilai mahasiswa: [80.0, 85.0, 90.0, 76.0, 60.0]\n",
            "Rata-rata: 78.2\n",
            "Standar Kelulusan: 85.0\n",
            "Apakah mahasiswa lulus? False\n"
          ]
        }
      ]
    },
    {
      "cell_type": "code",
      "source": [
        "belanja = float(input(\"Masukkan total belanja: \"))\n",
        "\n",
        "if belanja > 1000000:\n",
        "    diskon = 0.35 * belanja\n",
        "elif belanja > 500000:\n",
        "    diskon = 0.1 * belanja\n",
        "else:\n",
        "    diskon = 0\n",
        "\n",
        "total_harga = belanja - diskon\n",
        "print(\"Total harga setelah diskon =\", total_harga)"
      ],
      "metadata": {
        "colab": {
          "base_uri": "https://localhost:8080/"
        },
        "id": "VFAhH70ABPiE",
        "outputId": "f88df82a-be92-4d89-c1a4-865b04f9faf4"
      },
      "execution_count": 31,
      "outputs": [
        {
          "output_type": "stream",
          "name": "stdout",
          "text": [
            "Masukkan total belanja: 54000\n",
            "Total harga setelah diskon = 54000.0\n"
          ]
        }
      ]
    }
  ]
}