{
  "nbformat": 4,
  "nbformat_minor": 0,
  "metadata": {
    "colab": {
      "provenance": [],
      "authorship_tag": "ABX9TyNWoqEA7H8JLjYeUk3ek5Re",
      "include_colab_link": true
    },
    "kernelspec": {
      "name": "python3",
      "display_name": "Python 3"
    },
    "language_info": {
      "name": "python"
    }
  },
  "cells": [
    {
      "cell_type": "markdown",
      "metadata": {
        "id": "view-in-github",
        "colab_type": "text"
      },
      "source": [
        "<a href=\"https://colab.research.google.com/github/AdiCandraEdita/PEMOGRAMAN-DASAR/blob/main/Tugas.ipynb\" target=\"_parent\"><img src=\"https://colab.research.google.com/assets/colab-badge.svg\" alt=\"Open In Colab\"/></a>"
      ]
    },
    {
      "cell_type": "code",
      "execution_count": 3,
      "metadata": {
        "colab": {
          "base_uri": "https://localhost:8080/"
        },
        "id": "0zVt-CshUmU4",
        "outputId": "1b3198c3-c87c-4b8c-990e-98894d4b1062"
      },
      "outputs": [
        {
          "output_type": "stream",
          "name": "stdout",
          "text": [
            "******************************\n",
            "SELAMAT DATANG DI KAFE GEMINI\n",
            "******************************\n",
            "Menu Makanan & Minuman:\n",
            "1. Kopi Hitam   - Rp 12.000\n",
            "2. Teh Manis    - Rp 8.000\n",
            "3. Roti Bakar   - Rp 15.000\n",
            "4. Mie Instan   - Rp 10.000\n",
            "******************************\n",
            "Silakan masukkan nomor pilihan Anda (1-4): 4\n",
            "Anda memesan: Mie Instan dengan harga Rp 10000\n",
            "Masukkan jumlah pesanan: 1\n",
            "\n",
            "=== STRUK PEMBAYARAN ===\n",
            "Pesanan         : Mie Instan\n",
            "Jumlah Pesanan  : 1\n",
            "Total Harga     : Rp 10000\n",
            "Diskon          : 0.0%\n",
            "Potongan Harga  : Rp 0\n",
            "Total Bayar     : Rp 10000\n",
            "\n",
            "Masukkan jumlah uang Anda: Rp 50000\n",
            "Kembalian Anda  : Rp 40000\n",
            "Terima kasih telah berbelanja di Kafe Gemini ☕\n"
          ]
        }
      ],
      "source": [
        "print(\"*\" * 30)\n",
        "print(\"SELAMAT DATANG DI KAFE GEMINI\")\n",
        "print(\"*\" * 30)\n",
        "print(\"Menu Makanan & Minuman:\")\n",
        "print(\"1. Kopi Hitam   - Rp 12.000\")\n",
        "print(\"2. Teh Manis    - Rp 8.000\")\n",
        "print(\"3. Roti Bakar   - Rp 15.000\")\n",
        "print(\"4. Mie Instan   - Rp 10.000\")\n",
        "print(\"*\" * 30)\n",
        "\n",
        "# Input pilihan menu\n",
        "pilihan = int(input(\"Silakan masukkan nomor pilihan Anda (1-4): \"))\n",
        "\n",
        "nama_pesanan = \"\"\n",
        "harga = 0\n",
        "\n",
        "# Menentukan pesanan berdasarkan pilihan\n",
        "if pilihan == 1:\n",
        "    nama_pesanan = \"Kopi Hitam\"\n",
        "    harga = 12000\n",
        "elif pilihan == 2:\n",
        "    nama_pesanan = \"Teh Manis\"\n",
        "    harga = 8000\n",
        "elif pilihan == 3:\n",
        "    nama_pesanan = \"Roti Bakar\"\n",
        "    harga = 15000\n",
        "elif pilihan == 4:\n",
        "    nama_pesanan = \"Mie Instan\"\n",
        "    harga = 10000\n",
        "else:\n",
        "    print(\"Maaf, pilihan tidak valid.\")\n",
        "    exit()\n",
        "\n",
        "print(f\"Anda memesan: {nama_pesanan} dengan harga Rp {harga}\")\n",
        "\n",
        "# Input jumlah pesanan\n",
        "jumlah = int(input(\"Masukkan jumlah pesanan: \"))\n",
        "total = harga * jumlah\n",
        "\n",
        "# Menghitung diskon berdasarkan total belanja\n",
        "if total >= 50000:\n",
        "    diskon = 0.70   # 70%\n",
        "elif total >= 30000:\n",
        "    diskon = 0.50   # 50%\n",
        "elif total >= 20000:\n",
        "    diskon = 0.30   # 30%\n",
        "else:\n",
        "    diskon = 0.0    # Tidak ada diskon\n",
        "\n",
        "# Menghitung total bayar setelah diskon\n",
        "potongan = total * diskon\n",
        "total_bayar = total - potongan\n",
        "\n",
        "print(\"\\n=== STRUK PEMBAYARAN ===\")\n",
        "print(f\"Pesanan         : {nama_pesanan}\")\n",
        "print(f\"Jumlah Pesanan  : {jumlah}\")\n",
        "print(f\"Total Harga     : Rp {total}\")\n",
        "print(f\"Diskon          : {diskon*100}%\")\n",
        "print(f\"Potongan Harga  : Rp {int(potongan)}\")\n",
        "print(f\"Total Bayar     : Rp {int(total_bayar)}\")\n",
        "\n",
        "# Input uang pembayaran\n",
        "uang = int(input(\"\\nMasukkan jumlah uang Anda: Rp \"))\n",
        "if uang >= total_bayar:\n",
        "    kembalian = uang - total_bayar\n",
        "    print(f\"Kembalian Anda  : Rp {int(kembalian)}\")\n",
        "    print(\"Terima kasih telah berbelanja di Kafe Gemini ☕\")\n",
        "else:\n",
        "    kurang = total_bayar - uang\n",
        "    print(f\"Uang Anda kurang Rp {int(kurang)}\")"
      ]
    }
  ]
}